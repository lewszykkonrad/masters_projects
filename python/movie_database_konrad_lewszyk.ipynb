{
 "cells": [
  {
   "cell_type": "markdown",
   "metadata": {},
   "source": [
    "### Movie DataBase \n",
    "    The goal of this project was to create a program that generates a database solely based on movie titles, and scrapes all the necessary information about each movie."
   ]
  },
  {
   "cell_type": "markdown",
   "metadata": {},
   "source": [
    "#### Importing the necessary packages"
   ]
  },
  {
   "cell_type": "code",
   "execution_count": 179,
   "metadata": {},
   "outputs": [],
   "source": [
    "import numpy as np\n",
    "import pandas as pd\n",
    "import sqlite3\n",
    "import names\n",
    "import re\n",
    "import requests\n",
    "from bs4 import BeautifulSoup\n",
    "import matplotlib.pyplot as plt"
   ]
  },
  {
   "cell_type": "markdown",
   "metadata": {},
   "source": [
    "##### Here we create an empt database that we will later on fill up with data"
   ]
  },
  {
   "cell_type": "code",
   "execution_count": 165,
   "metadata": {},
   "outputs": [],
   "source": [
    "conn = sqlite3.connect('movie_database.db')\n",
    "\n",
    "c = conn.cursor()\n",
    "\n",
    "c.execute(\"CREATE TABLE reviews(review_id INTEGER PRIMARY KEY AUTOINCREMENT,\\\n",
    "          first_name text NOT NULL, \\\n",
    "          last_name text NOT NULL, \\\n",
    "          movie_title text NOT NULL, \\\n",
    "          rating int NOT NULL)\")\n",
    "\n",
    "c.execute(\"CREATE TABLE movies(movie_title text NOT NULL UNIQUE,\\\n",
    "            genre text NOT NULL, \\\n",
    "            year_of_production int NOT NULL)\")\n",
    "\n",
    "c.execute(\"CREATE TABLE box_office(movie_title text NOT NULL UNIQUE, \\\n",
    "            box_office int NOT NULL, \\\n",
    "            budget int NOT NULL)\")\n",
    "\n",
    "c.execute(\"CREATE TABLE directors(movie_title text NOT NULL UNIQUE, \\\n",
    "            director text NOT NULL)\")\n",
    "\n",
    "\n",
    "conn.commit()\n",
    "conn.close()"
   ]
  },
  {
   "cell_type": "markdown",
   "metadata": {},
   "source": [
    "#  <font color='red'>EMERGENCY FUNCTION</font>"
   ]
  },
  {
   "cell_type": "code",
   "execution_count": 163,
   "metadata": {},
   "outputs": [],
   "source": [
    "def clear_database():\n",
    "    conn = sqlite3.connect('movie_database.db')\n",
    "    c = conn.cursor()\n",
    "\n",
    "    c.execute(\"DROP table reviews\")\n",
    "    c.execute(\"DROP table  movies\")\n",
    "    c.execute(\"DROP table box_office\")\n",
    "    c.execute(\"DROP table directors\")\n",
    "    c.execute(\"DROP table ratings\")\n",
    "    \n",
    "    conn.commit()\n",
    "    conn.close()"
   ]
  },
  {
   "cell_type": "markdown",
   "metadata": {},
   "source": [
    "# Scraping movie data"
   ]
  },
  {
   "cell_type": "markdown",
   "metadata": {},
   "source": [
    "#### box office scraping function\n",
    "- we used the-numbers.com site to scrape data about movie budgets. This website had pretty accurate and specific numbers. We only had to make a special case if a movie title contained prefix 'The', and put it at the end of the title"
   ]
  },
  {
   "cell_type": "code",
   "execution_count": 6,
   "metadata": {},
   "outputs": [],
   "source": [
    "def box_office_scraper(movie_title):\n",
    "    if movie_title[:3] == 'the':\n",
    "        title_strings = movie_title.split()\n",
    "        the = title_strings[0]\n",
    "        final_string = '-'.join(title_strings[1:]) + '-the'\n",
    "        URL = 'https://www.the-numbers.com/movie/' + final_string +'#tab=summary'  \n",
    "    else:\n",
    "        title_strings = movie_title.split()\n",
    "        final_string = '-'.join(title_strings) \n",
    "        URL = 'https://www.the-numbers.com/movie/' + final_string + '#tab=summary' \n",
    "    page = requests.get(URL)\n",
    "    soup = BeautifulSoup(page.content, 'html.parser')\n",
    "    results = soup.find(id='movie_finances')\n",
    "    box_office = results.find_all(class_ = 'data')[2].text[1:].replace(',','')\n",
    "    return int(box_office)"
   ]
  },
  {
   "cell_type": "markdown",
   "metadata": {},
   "source": [
    "#### genre scraping function\n",
    "- for genre we used yet another website, rotten tomatoes. This time the website was less ocnsistent with the addresses for the films, sometimes 'the' was there and sometimes it wasn't, so to two special cases were required. For the genre, we care about the most representative, and we select the first one from the list"
   ]
  },
  {
   "cell_type": "code",
   "execution_count": 7,
   "metadata": {},
   "outputs": [],
   "source": [
    "def genre_scraper(movie_title):\n",
    "    if movie_title[:3] == 'the':\n",
    "        try:\n",
    "            string = movie_title.split()\n",
    "            string = '_'.join(string)\n",
    "            URL = 'https://www.rottentomatoes.com/m/' + string\n",
    "            page = requests.get(URL)\n",
    "            soup = BeautifulSoup(page.content, 'html.parser')\n",
    "            results = soup.find(class_ = 'meta-value genre')\n",
    "            genre = results.text.split()[0][:-1]\n",
    "        except AttributeError:\n",
    "            try:\n",
    "                string = movie_title[4:].split()\n",
    "                string = '_'.join(string)\n",
    "                URL = 'https://www.rottentomatoes.com/m/' + string\n",
    "                page = requests.get(URL)\n",
    "                soup = BeautifulSoup(page.content, 'html.parser')\n",
    "                results = soup.find(class_ = 'meta-value genre')\n",
    "                genre = results.text.split()[0][:-1]\n",
    "            except AttributeError:\n",
    "                pass\n",
    "    else:\n",
    "        string = movie_title.split()\n",
    "        string = '_'.join(string)\n",
    "        URL = 'https://www.rottentomatoes.com/m/' + string\n",
    "        page = requests.get(URL)\n",
    "        soup = BeautifulSoup(page.content, 'html.parser')\n",
    "        results = soup.find(class_ = 'meta-value genre')\n",
    "        genre = results.text.split()[0][:-1]\n",
    "        \n",
    "    if genre == 'sc':\n",
    "        genre = 'sci fi'\n",
    "    elif genre == 'dram':\n",
    "        genre = 'drama'\n",
    "    elif genre == 'wa':\n",
    "        genre = 'war'\n",
    "    \n",
    "        \n",
    "    return genre"
   ]
  },
  {
   "cell_type": "markdown",
   "metadata": {},
   "source": [
    "#### IMDB ID scraper\n",
    "- scraping from IMDB was more difficult than navigating on the previous websites. Each movie has its unique id, whih means using the title we cannot directly access the website. What we can do is enter a query into the IMDB homepage, and from there we pick the first result that in most cases will be the movie we look for and scrape the ascribed unique ID.\n",
    "    Note that this method would struggle with sequels, or with shows and movies that have the same titles. "
   ]
  },
  {
   "cell_type": "code",
   "execution_count": 9,
   "metadata": {},
   "outputs": [],
   "source": [
    "def id_scraper(movie_title):\n",
    "    #entering a query to IMDB's main home page using movie title, to obtain movie_id\n",
    "    URL = 'https://www.imdb.com/find?q=' + movie_title + '&ref_=nv_sr_sm'\n",
    "    page = requests.get(URL)\n",
    "    soup = BeautifulSoup(page.content, 'html.parser')\n",
    "    results = soup.find_all(class_ = 'result_text')\n",
    "    soup = BeautifulSoup(str(results[0]))\n",
    "    id_address = soup.find_all('a', href = True)[0]['href']\n",
    "    return id_address"
   ]
  },
  {
   "cell_type": "markdown",
   "metadata": {},
   "source": [
    "#### IMDB scraping function - director's name, budget, year of production\n",
    "- once we obtain the unique id of the movie, we can access all the remaining information we seek - the director's name, the budget and the year of production."
   ]
  },
  {
   "cell_type": "code",
   "execution_count": 10,
   "metadata": {},
   "outputs": [],
   "source": [
    "def director_scraper(movie_title):\n",
    "    #entering a query to IMDB's main home page using movie title, to obtain movie_id\n",
    "    id_address = id_scraper(movie_title)\n",
    "    \n",
    "    #using movie_id to access the movie website\n",
    "    URL = 'https://www.imdb.com' + id_address + '?ref_=fn_al_tt_1'\n",
    "    page = requests.get(URL)\n",
    "    soup = BeautifulSoup(page.content, 'html.parser')\n",
    "    \n",
    "    results = soup.find_all(class_ = 'credit_summary_item')\n",
    "    director = BeautifulSoup(str(results), 'html.parser').find_all('a', href = True)[0].text\n",
    "    return director"
   ]
  },
  {
   "cell_type": "code",
   "execution_count": 11,
   "metadata": {},
   "outputs": [],
   "source": [
    "def budget_scraper(movie_title):\n",
    "    id_address = id_scraper(movie_title)\n",
    "    \n",
    "    URL = 'https://www.imdb.com' + id_address + '?ref_=fn_al_tt_1'\n",
    "    page = requests.get(URL)\n",
    "    soup = BeautifulSoup(page.content, 'html.parser')\n",
    "    \n",
    "    text = soup.text\n",
    "    budget = re.findall('Budget:\\W\\d*,\\d*,\\d*', text)[0][8:].replace(',','')\n",
    "    return int(budget)"
   ]
  },
  {
   "cell_type": "code",
   "execution_count": 12,
   "metadata": {},
   "outputs": [],
   "source": [
    "def year_scraper(movie_title):\n",
    "    id_address = id_scraper(movie_title)\n",
    "    \n",
    "    URL = 'https://www.imdb.com' + id_address + '?ref_=fn_al_tt_1'\n",
    "    page = requests.get(URL)\n",
    "    soup = BeautifulSoup(page.content, 'html.parser')\n",
    "    soup = BeautifulSoup(str(soup.find_all(id = 'titleYear')[0]), 'html.parser')\n",
    "    \n",
    "    year = soup.text[1:5]\n",
    "    return int(year)"
   ]
  },
  {
   "cell_type": "markdown",
   "metadata": {},
   "source": [
    "#### selecting movies to analyze\n",
    "- creation of the list of movies we are interested in"
   ]
  },
  {
   "cell_type": "code",
   "execution_count": 13,
   "metadata": {},
   "outputs": [],
   "source": [
    "titles = ['lawrence of arabia', 'doctor zhivago', 'the graduate',\n",
    "         'the lord of the rings the return of the king','the lord of the rings the fellowship of the ring',\n",
    "         'the lord of the rings the two towers','the godfather','apocalypse now',\n",
    "         'blade runner', 'alien', 'gladiator', 'pulp fiction', 'django unchained', 'once upon a time in hollywood',\n",
    "         'inglourious basterds', 'sicario', 'arrival', 'blade runner 2049', 'the dark knight', 'inception',\n",
    "         'dunkirk', 'fight club', 'the girl with the dragon tattoo', 'the social network',\n",
    "          'the wolf of wall street', 'raging bull', 'schindlers list', 'jaws', 'raiders of the lost ark',\n",
    "          'terminator 2 judgment day', 'titanic']"
   ]
  },
  {
   "cell_type": "markdown",
   "metadata": {},
   "source": [
    "### Setting up Film class object\n",
    "- all scrapers were written as functions. That way we can easily iterate through the list of films and assign the movie characteristics as attributes"
   ]
  },
  {
   "cell_type": "code",
   "execution_count": 14,
   "metadata": {},
   "outputs": [],
   "source": [
    "class Film:\n",
    "    \n",
    "    def __init__(self, movie_title):\n",
    "        self.movie_title = movie_title\n",
    "        self.genre = genre_scraper(movie_title)\n",
    "        self.year_of_production = year_scraper(movie_title)\n",
    "        self.director = director_scraper(movie_title)\n",
    "        self.box_office = box_office_scraper(movie_title)\n",
    "        self.budget = budget_scraper(movie_title)"
   ]
  },
  {
   "cell_type": "markdown",
   "metadata": {},
   "source": [
    "Now we create a list of objects, and for each title a film object is generated"
   ]
  },
  {
   "cell_type": "code",
   "execution_count": 15,
   "metadata": {
    "scrolled": false
   },
   "outputs": [
    {
     "name": "stdout",
     "output_type": "stream",
     "text": [
      "[<__main__.Film object at 0x00000263CAFB1610>, <__main__.Film object at 0x00000263CAFB1880>, <__main__.Film object at 0x00000263CBB10610>, <__main__.Film object at 0x00000263CB441BE0>, <__main__.Film object at 0x00000263CBAC97F0>, <__main__.Film object at 0x00000263CBE56DF0>, <__main__.Film object at 0x00000263CB008490>, <__main__.Film object at 0x00000263CBAA6D00>, <__main__.Film object at 0x00000263CB2CCD30>, <__main__.Film object at 0x00000263CCF37370>, <__main__.Film object at 0x00000263CB067490>, <__main__.Film object at 0x00000263CB76AA90>, <__main__.Film object at 0x00000263CD05BD60>, <__main__.Film object at 0x00000263CB3CD0A0>, <__main__.Film object at 0x00000263CBC03430>, <__main__.Film object at 0x00000263CB6FF400>, <__main__.Film object at 0x00000263CCF5A700>, <__main__.Film object at 0x00000263CB0910A0>, <__main__.Film object at 0x00000263CB4CC310>, <__main__.Film object at 0x00000263CB1428E0>, <__main__.Film object at 0x00000263CB009A90>, <__main__.Film object at 0x00000263CB9BBCD0>, <__main__.Film object at 0x00000263CB0E54C0>, <__main__.Film object at 0x00000263CB8910A0>, <__main__.Film object at 0x00000263CBDE2FA0>, <__main__.Film object at 0x00000263CBA694F0>, <__main__.Film object at 0x00000263CBAC40A0>, <__main__.Film object at 0x00000263CB468D00>, <__main__.Film object at 0x00000263CB80BA30>, <__main__.Film object at 0x00000263CB3F4BB0>, <__main__.Film object at 0x00000263CB1C9910>]\n"
     ]
    }
   ],
   "source": [
    "film_object_list = []\n",
    "for element in titles:\n",
    "    film_to_add = Film(element)\n",
    "    film_object_list.append(film_to_add)"
   ]
  },
  {
   "cell_type": "markdown",
   "metadata": {},
   "source": [
    "#### adding weights to titles for review\n",
    "- if we chose a random number from a distribution for each title, then the resulting reviews that we will generate would have strikingly similar ratings. To simulate the real world a bit more, we can assign a unique list of probabilities for each movie. This means that each movie will have it's unique probability of obtaining a 10, or a 5, or an 8."
   ]
  },
  {
   "cell_type": "markdown",
   "metadata": {},
   "source": [
    "The method weighter() creates weights for each rating from 4 to 10 (I selected pretty cool and decent movies that have all very high ratings, I could not disgrace them by giving them less that a four). To do this, I create 7 numbers from normal distributions of mean 0.1 and standard deviation 0.1, and if they exceed 1, then I subtract the outstanding amount from the largest one, and if they accumulate to less than 1, I add the missing value to the smallest value. This way, our probabilities add up to 1, or sometimes 0.9999999999, but after a certain amount of 9's python rounds it by itself to 1, so we don't have to worry about that."
   ]
  },
  {
   "cell_type": "code",
   "execution_count": 20,
   "metadata": {},
   "outputs": [],
   "source": [
    "#since we will generate reviews ourselves, we would like the data to sort of resemble reality,\n",
    "# so we will add probability weights to titles.\n",
    "def weighter():\n",
    "    total = 1\n",
    "    a = abs(np.random.normal(0.1,0.1))\n",
    "    b = abs(np.random.normal(0.1,0.1))\n",
    "    c = abs(np.random.normal(0.1,0.1))\n",
    "    d = abs(np.random.normal(0.1,0.1))\n",
    "    e = abs(np.random.normal(0.1,0.1))\n",
    "    f = abs(np.random.normal(0.1,0.1))\n",
    "    g = abs(np.random.normal(0.1,0.1))\n",
    "    total = total - a - b - c - d - e - f - g\n",
    "    probabilities = [a,b,c,d,e,f,g]\n",
    "    if total < 0:\n",
    "        probabilities.sort()\n",
    "        probabilities[6] -= abs(total)\n",
    "    elif total > 0:\n",
    "        probabilities.sort()\n",
    "        probabilities[0] += abs(total)\n",
    "    np.random.shuffle(probabilities)\n",
    "    return (probabilities)"
   ]
  },
  {
   "cell_type": "markdown",
   "metadata": {},
   "source": [
    "Here we create a dictionary, and assign each movie its unique probabilities"
   ]
  },
  {
   "cell_type": "code",
   "execution_count": 19,
   "metadata": {},
   "outputs": [],
   "source": [
    "#here we assign each movie its own unique set of probabilities\n",
    "weight_dictionary = {}\n",
    "for title in titles:\n",
    "    weight_dictionary[title] = weighter()"
   ]
  },
  {
   "cell_type": "markdown",
   "metadata": {},
   "source": [
    "#### filling up the table 'reviews' with reviews\n",
    "- We use methods from package names, that create random, but existing, first and last names. To give each movie solid amount of reviews, we generate 2000 reviews. "
   ]
  },
  {
   "cell_type": "code",
   "execution_count": 166,
   "metadata": {},
   "outputs": [],
   "source": [
    "conn = sqlite3.connect('movie_database.db')\n",
    "c = conn.cursor()\n",
    "\n",
    "for i in range(1,2001):\n",
    "    film = np.random.choice(film_object_list)\n",
    "    c.execute(\"INSERT INTO reviews VALUES(?,?,?,?,?)\", (None, names.get_first_name().lower(),\n",
    "                                                    names.get_last_name().lower(), \n",
    "                                                    film.movie_title,\n",
    "                                                    int(np.random.choice([4,5,6,7,8,9,10], \n",
    "                                                                     p = weight_dictionary[film.movie_title]))))\n",
    "\n",
    "conn.commit()\n",
    "conn.close()"
   ]
  },
  {
   "cell_type": "markdown",
   "metadata": {},
   "source": [
    "### filling up the rest of the tables\n",
    "- we fill up the rest of the table will attributes from each film object"
   ]
  },
  {
   "cell_type": "code",
   "execution_count": 167,
   "metadata": {},
   "outputs": [],
   "source": [
    "conn = sqlite3.connect('movie_database.db')\n",
    "c = conn.cursor()\n",
    "\n",
    "for movie in film_object_list:\n",
    "    c.execute(\"INSERT INTO movies VALUES(?,?,?)\", (movie.movie_title, movie.genre, movie.year_of_production))\n",
    "    c.execute(\"INSERT INTO box_office VALUES(?,?,?)\", (movie.movie_title, movie.box_office, movie.budget))\n",
    "    c.execute(\"INSERT INTO directors VALUES(?,?)\", (movie.movie_title, movie.director))\n",
    "    \n",
    "conn.commit()\n",
    "conn.close()"
   ]
  },
  {
   "cell_type": "markdown",
   "metadata": {},
   "source": [
    "### assigning movies their average rating\n",
    "- here we start playing around with SQL queries and see what sort of stuff we can do with our SQL queries. First we group two tables together and use aggregate function to obtain an average rating for each movie"
   ]
  },
  {
   "cell_type": "code",
   "execution_count": 413,
   "metadata": {},
   "outputs": [],
   "source": [
    "conn = sqlite3.connect('movie_database.db')\n",
    "c = conn.cursor()\n",
    "\n",
    "movie_ratings = []\n",
    "\n",
    "c.execute(\"SELECT movie_title, AVG(rating) FROM reviews GROUP BY movie_title\")\n",
    "\n",
    "list_of_results = c.fetchall()\n",
    "for item in list_of_results:\n",
    "    movie_ratings.append(item)\n",
    "\n",
    "conn.commit()\n",
    "conn.close()"
   ]
  },
  {
   "cell_type": "markdown",
   "metadata": {},
   "source": [
    "then we create a table with movie title and the rating, which will come in handy in later queries. The first manipulation we do is displaying the movies by their rating."
   ]
  },
  {
   "cell_type": "code",
   "execution_count": 169,
   "metadata": {},
   "outputs": [],
   "source": [
    "conn = sqlite3.connect('movie_database.db')\n",
    "c = conn.cursor()\n",
    "\n",
    "c.execute(\"CREATE TABLE ratings(movie_title text NOT NULL UNIQUE, \\\n",
    "                         average_rating int NOT NULL)\")\n",
    "\n",
    "for movie in movie_ratings:\n",
    "    c.execute(\"INSERT INTO ratings VALUES(?,?)\", (movie[0], movie[1]))\n",
    "\n",
    "conn.commit()\n",
    "conn.close()"
   ]
  },
  {
   "cell_type": "code",
   "execution_count": 414,
   "metadata": {
    "scrolled": true
   },
   "outputs": [
    {
     "data": {
      "text/html": [
       "<div>\n",
       "<style scoped>\n",
       "    .dataframe tbody tr th:only-of-type {\n",
       "        vertical-align: middle;\n",
       "    }\n",
       "\n",
       "    .dataframe tbody tr th {\n",
       "        vertical-align: top;\n",
       "    }\n",
       "\n",
       "    .dataframe thead th {\n",
       "        text-align: right;\n",
       "    }\n",
       "</style>\n",
       "<table border=\"1\" class=\"dataframe\">\n",
       "  <thead>\n",
       "    <tr style=\"text-align: right;\">\n",
       "      <th></th>\n",
       "      <th>movie</th>\n",
       "      <th>rating</th>\n",
       "    </tr>\n",
       "  </thead>\n",
       "  <tbody>\n",
       "    <tr>\n",
       "      <th>0</th>\n",
       "      <td>alien</td>\n",
       "      <td>6.048780</td>\n",
       "    </tr>\n",
       "    <tr>\n",
       "      <th>28</th>\n",
       "      <td>the social network</td>\n",
       "      <td>6.107143</td>\n",
       "    </tr>\n",
       "    <tr>\n",
       "      <th>24</th>\n",
       "      <td>the graduate</td>\n",
       "      <td>6.265625</td>\n",
       "    </tr>\n",
       "    <tr>\n",
       "      <th>15</th>\n",
       "      <td>pulp fiction</td>\n",
       "      <td>6.300000</td>\n",
       "    </tr>\n",
       "    <tr>\n",
       "      <th>7</th>\n",
       "      <td>dunkirk</td>\n",
       "      <td>6.302632</td>\n",
       "    </tr>\n",
       "  </tbody>\n",
       "</table>\n",
       "</div>"
      ],
      "text/plain": [
       "                 movie    rating\n",
       "0                alien  6.048780\n",
       "28  the social network  6.107143\n",
       "24        the graduate  6.265625\n",
       "15        pulp fiction  6.300000\n",
       "7              dunkirk  6.302632"
      ]
     },
     "metadata": {},
     "output_type": "display_data"
    }
   ],
   "source": [
    "temporal_df = pd.DataFrame(movie_ratings)\n",
    "temporal_df.columns = ['movie', 'rating']\n",
    "temporal_df.sort_values(by = 'rating', inplace = True)\n",
    "display(temporal_df.head())"
   ]
  },
  {
   "cell_type": "code",
   "execution_count": 417,
   "metadata": {
    "scrolled": false
   },
   "outputs": [
    {
     "data": {
      "image/png": "[encoded data removed]",
      "text/plain": [
       "<Figure size 1080x720 with 1 Axes>"
      ]
     },
     "metadata": {
      "needs_background": "light"
     },
     "output_type": "display_data"
    }
   ],
   "source": [
    "plt.figure(figsize = (15,10))\n",
    "plt.barh(temporal_df.movie,temporal_df.rating, alpha = 0.8);\n",
    "plt.title('Movies by rating');"
   ]
  },
  {
   "cell_type": "markdown",
   "metadata": {},
   "source": [
    "#### rating by genre\n",
    "- now we observe whith genres accumulated the highest ratings"
   ]
  },
  {
   "cell_type": "code",
   "execution_count": 224,
   "metadata": {},
   "outputs": [],
   "source": [
    "conn = sqlite3.connect('movie_database.db')\n",
    "c = conn.cursor()\n",
    "\n",
    "genre_ratings = []\n",
    "\n",
    "c.execute(\"SELECT m.genre, AVG(r.average_rating) \\\n",
    "          FROM movies m \\\n",
    "          INNER JOIN ratings r \\\n",
    "          ON m.movie_title = r.movie_title \\\n",
    "          GROUP BY m.genre\")\n",
    "          \n",
    "list_of_results = c.fetchall()\n",
    "for element in list_of_results:\n",
    "    genre_ratings.append(element)\n",
    "\n",
    "conn.commit()\n",
    "conn.close()"
   ]
  },
  {
   "cell_type": "code",
   "execution_count": 230,
   "metadata": {},
   "outputs": [
    {
     "data": {
      "text/html": [
       "<div>\n",
       "<style scoped>\n",
       "    .dataframe tbody tr th:only-of-type {\n",
       "        vertical-align: middle;\n",
       "    }\n",
       "\n",
       "    .dataframe tbody tr th {\n",
       "        vertical-align: top;\n",
       "    }\n",
       "\n",
       "    .dataframe thead th {\n",
       "        text-align: right;\n",
       "    }\n",
       "</style>\n",
       "<table border=\"1\" class=\"dataframe\">\n",
       "  <thead>\n",
       "    <tr style=\"text-align: right;\">\n",
       "      <th></th>\n",
       "      <th>genre</th>\n",
       "      <th>rating</th>\n",
       "    </tr>\n",
       "  </thead>\n",
       "  <tbody>\n",
       "    <tr>\n",
       "      <th>0</th>\n",
       "      <td>action</td>\n",
       "      <td>7.640255</td>\n",
       "    </tr>\n",
       "    <tr>\n",
       "      <th>1</th>\n",
       "      <td>adventure</td>\n",
       "      <td>7.168221</td>\n",
       "    </tr>\n",
       "    <tr>\n",
       "      <th>2</th>\n",
       "      <td>drama</td>\n",
       "      <td>7.137742</td>\n",
       "    </tr>\n",
       "    <tr>\n",
       "      <th>3</th>\n",
       "      <td>horror</td>\n",
       "      <td>6.330842</td>\n",
       "    </tr>\n",
       "    <tr>\n",
       "      <th>4</th>\n",
       "      <td>sci fi</td>\n",
       "      <td>7.388187</td>\n",
       "    </tr>\n",
       "    <tr>\n",
       "      <th>5</th>\n",
       "      <td>war</td>\n",
       "      <td>6.302632</td>\n",
       "    </tr>\n",
       "  </tbody>\n",
       "</table>\n",
       "</div>"
      ],
      "text/plain": [
       "       genre    rating\n",
       "0     action  7.640255\n",
       "1  adventure  7.168221\n",
       "2      drama  7.137742\n",
       "3     horror  6.330842\n",
       "4     sci fi  7.388187\n",
       "5        war  6.302632"
      ]
     },
     "metadata": {},
     "output_type": "display_data"
    }
   ],
   "source": [
    "temporal_df = pd.DataFrame(genre_ratings)\n",
    "temporal_df.columns = ['genre', 'rating']\n",
    "display(temporal_df.head(6))"
   ]
  },
  {
   "cell_type": "code",
   "execution_count": 232,
   "metadata": {
    "scrolled": true
   },
   "outputs": [
    {
     "data": {
      "text/plain": [
       "<BarContainer object of 6 artists>"
      ]
     },
     "execution_count": 232,
     "metadata": {},
     "output_type": "execute_result"
    },
    {
     "data": {
      "image/png": "[encoded data removed]",
      "text/plain": [
       "<Figure size 720x360 with 1 Axes>"
      ]
     },
     "metadata": {
      "needs_background": "light"
     },
     "output_type": "display_data"
    }
   ],
   "source": [
    "plt.figure(figsize = (10,5))\n",
    "plt.barh(temporal_df.genre, temporal_df.rating, alpha = 0.8)\n",
    "plt.title('Genre by rating');"
   ]
  },
  {
   "cell_type": "markdown",
   "metadata": {},
   "source": [
    "#### revenue by director\n",
    "- we can also find out which director brings most money. Of course this database does not include all movies made, but by all means if we included all movies of each director, and adjusted for inflation based on the year, we could find out which director is the most financially fruitful."
   ]
  },
  {
   "cell_type": "code",
   "execution_count": 278,
   "metadata": {},
   "outputs": [],
   "source": [
    "conn = sqlite3.connect('movie_database.db')\n",
    "c = conn.cursor()\n",
    "\n",
    "directors_revenue = []\n",
    "\n",
    "c.execute(\"SELECT d.director, SUM(b.box_office), SUM(b.budget)   \\\n",
    "          FROM directors d \\\n",
    "          INNER JOIN box_office b \\\n",
    "          ON d.movie_title = b.movie_title \\\n",
    "          GROUP BY d.director\")\n",
    "          \n",
    "list_of_results = c.fetchall()\n",
    "for element in list_of_results:\n",
    "    directors_revenue.append(element)\n",
    "\n",
    "conn.commit()\n",
    "conn.close()"
   ]
  },
  {
   "cell_type": "code",
   "execution_count": 320,
   "metadata": {
    "scrolled": true
   },
   "outputs": [
    {
     "data": {
      "text/html": [
       "<div>\n",
       "<style scoped>\n",
       "    .dataframe tbody tr th:only-of-type {\n",
       "        vertical-align: middle;\n",
       "    }\n",
       "\n",
       "    .dataframe tbody tr th {\n",
       "        vertical-align: top;\n",
       "    }\n",
       "\n",
       "    .dataframe thead th {\n",
       "        text-align: right;\n",
       "    }\n",
       "</style>\n",
       "<table border=\"1\" class=\"dataframe\">\n",
       "  <thead>\n",
       "    <tr style=\"text-align: right;\">\n",
       "      <th></th>\n",
       "      <th>director</th>\n",
       "      <th>box_office</th>\n",
       "      <th>budget</th>\n",
       "      <th>ratio</th>\n",
       "    </tr>\n",
       "  </thead>\n",
       "  <tbody>\n",
       "    <tr>\n",
       "      <th>0</th>\n",
       "      <td>Christopher Nolan</td>\n",
       "      <td>2247649450</td>\n",
       "      <td>445000000</td>\n",
       "      <td>5.050898</td>\n",
       "    </tr>\n",
       "    <tr>\n",
       "      <th>1</th>\n",
       "      <td>David Fincher</td>\n",
       "      <td>565117052</td>\n",
       "      <td>193000000</td>\n",
       "      <td>2.928068</td>\n",
       "    </tr>\n",
       "    <tr>\n",
       "      <th>2</th>\n",
       "      <td>David Lean</td>\n",
       "      <td>182035435</td>\n",
       "      <td>26000000</td>\n",
       "      <td>7.001363</td>\n",
       "    </tr>\n",
       "    <tr>\n",
       "      <th>3</th>\n",
       "      <td>Denis Villeneuve</td>\n",
       "      <td>546733991</td>\n",
       "      <td>227000000</td>\n",
       "      <td>2.408520</td>\n",
       "    </tr>\n",
       "    <tr>\n",
       "      <th>4</th>\n",
       "      <td>Francis Ford Coppola</td>\n",
       "      <td>354415469</td>\n",
       "      <td>37500000</td>\n",
       "      <td>9.451079</td>\n",
       "    </tr>\n",
       "  </tbody>\n",
       "</table>\n",
       "</div>"
      ],
      "text/plain": [
       "               director  box_office     budget     ratio\n",
       "0     Christopher Nolan  2247649450  445000000  5.050898\n",
       "1         David Fincher   565117052  193000000  2.928068\n",
       "2            David Lean   182035435   26000000  7.001363\n",
       "3      Denis Villeneuve   546733991  227000000  2.408520\n",
       "4  Francis Ford Coppola   354415469   37500000  9.451079"
      ]
     },
     "metadata": {},
     "output_type": "display_data"
    }
   ],
   "source": [
    "temporal_df = pd.DataFrame(directors_revenue)\n",
    "temporal_df.columns = ['director', 'box_office', 'budget']\n",
    "temporal_df['ratio'] = temporal_df.box_office / temporal_df.budget\n",
    "display(temporal_df.head())"
   ]
  },
  {
   "cell_type": "code",
   "execution_count": 410,
   "metadata": {},
   "outputs": [
    {
     "data": {
      "text/plain": [
       "Text(0.5, 1.0, 'directors by box_offcce to budget ratio')"
      ]
     },
     "execution_count": 410,
     "metadata": {},
     "output_type": "execute_result"
    },
    {
     "data": {
      "image/png": "[encoded data removed]",
      "text/plain": [
       "<Figure size 720x720 with 2 Axes>"
      ]
     },
     "metadata": {
      "needs_background": "light"
     },
     "output_type": "display_data"
    }
   ],
   "source": [
    "fig, ax = plt.subplots(2,1, figsize = (10,10))\n",
    "colors = ['#c4dff6', '#ffc2e5','#ebffac','#c1f1fc','#ffaaaa','#85b7e2',\n",
    "         '#a4dbdb','#91d8f4','#7c81b8','#fecb00','#8c88cd','#c4dff6']\n",
    "ax[0].pie(temporal_df.box_office, labels = temporal_df.director,\n",
    "         labeldistance = 1.1, colors = colors);\n",
    "ax[0].set_title('share of box_office by director')\n",
    "temporal_df.sort_values(by = 'ratio', inplace = True)\n",
    "ax[1].barh(temporal_df.director, temporal_df.ratio)\n",
    "ax[1].set_title('directors by box_offcce to budget ratio')"
   ]
  },
  {
   "cell_type": "markdown",
   "metadata": {},
   "source": [
    "#### Biggest box_office hit and biggest box_office bomb\n",
    "- we compare budgets and revenues to see which movies did well in relation to their budgets. Interesting results, Jaws with a budget of 7 million dollars was a star smashing hit with 476 million revenue. We can observe what a genius marketer James Cameron is with 2.76 billion revenue from a film about a sinking ship and two floating on a wardrobe. The graduate, a 1967 movie barely any adolescents know today made around 100 million on a 3 million budget. That's an equivalent of 800 million today, not bad for a film whose topicality would not stand a chance today to achieve that number. Then we see the sad cases, the fight club, sicario, apocalypse now, raging bull, all movies that did not exceed their budget by too much. We can also notice that movies titled blade runner are doomed for poor box office performance."
   ]
  },
  {
   "cell_type": "code",
   "execution_count": 424,
   "metadata": {},
   "outputs": [],
   "source": [
    "conn = sqlite3.connect('movie_database.db')\n",
    "c = conn.cursor()\n",
    "\n",
    "financial_info = []\n",
    "\n",
    "c.execute(\"SELECT d.director, b.box_office, b.budget, m.movie_title, r.average_rating  \\\n",
    "          FROM directors d \\\n",
    "          INNER JOIN box_office b \\\n",
    "          ON d.movie_title = b.movie_title \\\n",
    "          INNER JOIN movies m \\\n",
    "          ON m.movie_title=b.movie_title \\\n",
    "          INNER JOIN ratings r \\\n",
    "          ON b.movie_title=r.movie_title\")\n",
    "          \n",
    "list_of_results = c.fetchall()\n",
    "for element in list_of_results:\n",
    "    financial_info.append(element)\n",
    "\n",
    "conn.commit()\n",
    "conn.close()"
   ]
  },
  {
   "cell_type": "code",
   "execution_count": 430,
   "metadata": {},
   "outputs": [
    {
     "data": {
      "text/html": [
       "<div>\n",
       "<style scoped>\n",
       "    .dataframe tbody tr th:only-of-type {\n",
       "        vertical-align: middle;\n",
       "    }\n",
       "\n",
       "    .dataframe tbody tr th {\n",
       "        vertical-align: top;\n",
       "    }\n",
       "\n",
       "    .dataframe thead th {\n",
       "        text-align: right;\n",
       "    }\n",
       "</style>\n",
       "<table border=\"1\" class=\"dataframe\">\n",
       "  <thead>\n",
       "    <tr style=\"text-align: right;\">\n",
       "      <th></th>\n",
       "      <th>director</th>\n",
       "      <th>box_office</th>\n",
       "      <th>budget</th>\n",
       "      <th>movie_title</th>\n",
       "      <th>rating</th>\n",
       "      <th>ratio</th>\n",
       "    </tr>\n",
       "  </thead>\n",
       "  <tbody>\n",
       "    <tr>\n",
       "      <th>25</th>\n",
       "      <td>Martin Scorsese</td>\n",
       "      <td>23380513</td>\n",
       "      <td>18000000</td>\n",
       "      <td>raging bull</td>\n",
       "      <td>7.140000</td>\n",
       "      <td>1.298917</td>\n",
       "    </tr>\n",
       "    <tr>\n",
       "      <th>8</th>\n",
       "      <td>Ridley Scott</td>\n",
       "      <td>39534078</td>\n",
       "      <td>28000000</td>\n",
       "      <td>blade runner</td>\n",
       "      <td>6.802817</td>\n",
       "      <td>1.411931</td>\n",
       "    </tr>\n",
       "    <tr>\n",
       "      <th>21</th>\n",
       "      <td>David Fincher</td>\n",
       "      <td>100820947</td>\n",
       "      <td>63000000</td>\n",
       "      <td>fight club</td>\n",
       "      <td>6.706897</td>\n",
       "      <td>1.600332</td>\n",
       "    </tr>\n",
       "    <tr>\n",
       "      <th>17</th>\n",
       "      <td>Denis Villeneuve</td>\n",
       "      <td>259212348</td>\n",
       "      <td>150000000</td>\n",
       "      <td>blade runner 2049</td>\n",
       "      <td>7.074074</td>\n",
       "      <td>1.728082</td>\n",
       "    </tr>\n",
       "    <tr>\n",
       "      <th>22</th>\n",
       "      <td>David Fincher</td>\n",
       "      <td>239373970</td>\n",
       "      <td>90000000</td>\n",
       "      <td>the girl with the dragon tattoo</td>\n",
       "      <td>8.555556</td>\n",
       "      <td>2.659711</td>\n",
       "    </tr>\n",
       "  </tbody>\n",
       "</table>\n",
       "</div>"
      ],
      "text/plain": [
       "            director  box_office     budget                      movie_title  \\\n",
       "25   Martin Scorsese    23380513   18000000                      raging bull   \n",
       "8       Ridley Scott    39534078   28000000                     blade runner   \n",
       "21     David Fincher   100820947   63000000                       fight club   \n",
       "17  Denis Villeneuve   259212348  150000000                blade runner 2049   \n",
       "22     David Fincher   239373970   90000000  the girl with the dragon tattoo   \n",
       "\n",
       "      rating     ratio  \n",
       "25  7.140000  1.298917  \n",
       "8   6.802817  1.411931  \n",
       "21  6.706897  1.600332  \n",
       "17  7.074074  1.728082  \n",
       "22  8.555556  2.659711  "
      ]
     },
     "metadata": {},
     "output_type": "display_data"
    }
   ],
   "source": [
    "temporal_df = pd.DataFrame(financial_info)\n",
    "temporal_df.columns = ['director', 'box_office', 'budget', 'movie_title', 'rating']\n",
    "temporal_df['ratio'] = temporal_df.box_office / temporal_df.budget\n",
    "temporal_df.sort_values(by = 'ratio', inplace = True)\n",
    "display(temporal_df.head())"
   ]
  },
  {
   "cell_type": "code",
   "execution_count": 503,
   "metadata": {},
   "outputs": [
    {
     "name": "stderr",
     "output_type": "stream",
     "text": [
      "<ipython-input-503-0bc1030a2777>:8: UserWarning: FixedFormatter should only be used together with FixedLocator\n",
      "  ax.set_xticklabels(temporal_df.movie_title)\n"
     ]
    },
    {
     "data": {
      "image/png": "[encoded data removed]",
      "text/plain": [
       "<Figure size 1440x720 with 1 Axes>"
      ]
     },
     "metadata": {
      "needs_background": "light"
     },
     "output_type": "display_data"
    }
   ],
   "source": [
    "fig, ax = plt.subplots(figsize = (20,10))\n",
    "width = 0.4\n",
    "x = np.arange(len(temporal_df.movie_title))\n",
    "\n",
    "ax.bar(x, temporal_df.budget, width = width)\n",
    "ax.bar(x + width, temporal_df.box_office, width = width)\n",
    "\n",
    "ax.set_xticklabels(temporal_df.movie_title)\n",
    "ax.set_xticks(x + width/2)\n",
    "ax.xaxis.set_tick_params(rotation=80)\n",
    "\n",
    "ax.set_title('Box_office to budget comparison');"
   ]
  },
  {
   "cell_type": "markdown",
   "metadata": {},
   "source": [
    "#### budget and rating\n",
    "- finally we analyze the relation between budget and rating. "
   ]
  },
  {
   "cell_type": "code",
   "execution_count": 502,
   "metadata": {},
   "outputs": [
    {
     "data": {
      "image/png": "[encoded data removed]",
      "text/plain": [
       "<Figure size 1080x360 with 1 Axes>"
      ]
     },
     "metadata": {
      "needs_background": "light"
     },
     "output_type": "display_data"
    }
   ],
   "source": [
    "fig, ax = plt.subplots(figsize = (15,5))\n",
    "ax.scatter(temporal_df.budget, temporal_df.rating)\n",
    "ax.ticklabel_format(useOffset=False, style = 'plain')\n",
    "plt.title('Budget to rating comparison');"
   ]
  },
  {
   "cell_type": "markdown",
   "metadata": {},
   "source": [
    "#### Thank you"
   ]
  }
 ],
 "metadata": {
  "kernelspec": {
   "display_name": "Python 3",
   "language": "python",
   "name": "python3"
  },
  "language_info": {
   "codemirror_mode": {
    "name": "ipython",
    "version": 3
   },
   "file_extension": ".py",
   "mimetype": "text/x-python",
   "name": "python",
   "nbconvert_exporter": "python",
   "pygments_lexer": "ipython3",
   "version": "3.8.5"
  }
 },
 "nbformat": 4,
 "nbformat_minor": 4
}
